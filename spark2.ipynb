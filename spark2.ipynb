{
 "cells": [
  {
   "cell_type": "markdown",
   "metadata": {},
   "source": [
    "## PARTIE 2 : SPARK"
   ]
  },
  {
   "cell_type": "code",
   "execution_count": 3,
   "metadata": {},
   "outputs": [],
   "source": [
    "def _build_spark_session(\n",
    "    app_name, driver_cores, driver_mem, max_executors, executor_cores,\n",
    "    executor_mem, queue\n",
    "):\n",
    "    \"\"\"Build Spark session.\"\"\"\n",
    "    return (\n",
    "        SparkSession.builder\n",
    "        .appName(app_name)\n",
    "        .config(\"spark.master\", \"yarn\")\n",
    "        .config(\"spark.submit.deployMode\", \"client\")\n",
    "        .config(\"spark.driver.cores\", driver_cores)\n",
    "        .config(\"spark.driver.memory\", driver_mem)\n",
    "        .config(\"spark.executor.cores\", executor_cores)\n",
    "        .config(\"spark.executor.memory\", executor_mem)\n",
    "        .config(\"spark.shuffle.service.enabled\", True)\n",
    "        .config(\"spark.dynamicAllocation.enabled\", True)\n",
    "        .config(\"spark.dynamicAllocation.minExecutors\", 0)\n",
    "        .config(\"spark.dynamicAllocation.maxExecutors\", max_executors)\n",
    "        .config(\"spark.executor.memoryOverhead\", 2048)\n",
    "        .config(\"spark.driver.memoryOverhead\", 1024)\n",
    "        .config(\"spark.yarn.queue\", queue)\n",
    "        # .config(\"spark.sql.session.timeZone\", \"UTC\")\n",
    "        .config(\"spark.driver.extraClassPath\", \"/soft/ora1210/db/jdbc/lib/ojdbc6.jar\")\n",
    "        .config(\"spark.executor.extraClassPath\", \"/soft/ora1210/db/jdbc/lib/ojdbc6.jar\")\n",
    "        .getOrCreate()\n",
    "    )\n"
   ]
  },
  {
   "cell_type": "code",
   "execution_count": 4,
   "metadata": {},
   "outputs": [],
   "source": [
    "from pyspark.sql import SparkSession\n",
    "\n",
    "spark_session = SparkSession.builder\\\n",
    "        .appName(\"app_name\") \\\n",
    "        .getOrCreate()"
   ]
  },
  {
   "cell_type": "code",
   "execution_count": 5,
   "metadata": {},
   "outputs": [],
   "source": [
    "import pyspark.sql.functions as F\n",
    "from pyspark.sql.window import Window\n",
    "\n",
    "data_spark = spark_session.read.csv(\"/home/jovyan/code/dataset_sample_spark.csv\",\n",
    "                                     header=True, \n",
    "                                     inferSchema=True,\n",
    "                                     sep=';')"
   ]
  },
  {
   "cell_type": "code",
   "execution_count": 6,
   "metadata": {},
   "outputs": [],
   "source": [
    "# Suppresiion des doublons \n",
    "data_spark = data_spark.dropDuplicates()"
   ]
  },
  {
   "cell_type": "code",
   "execution_count": 7,
   "metadata": {},
   "outputs": [
    {
     "name": "stdout",
     "output_type": "stream",
     "text": [
      "+-----------+------------+---------+-----------+----------+-------------+--------------+----------------------------+\n",
      "|     sensor|servicePoint|   client|transmitter|      date|meterDiameter|volume_l_value|index_interpolated_d_l_value|\n",
      "+-----------+------------+---------+-----------+----------+-------------+--------------+----------------------------+\n",
      "|C04AE134021| 9,84588E+11|LYONNAISE|   C01E00D9|14/11/2020|           40|           5.0|                   6672885.0|\n",
      "|C07AA092853| 9,89432E+11|LYONNAISE|11A000060C8|22/01/2019|           15|           0.0|                   2924425.0|\n",
      "|C07AA092853| 9,89432E+11|LYONNAISE|11A000060C8|04/01/2020|           15|         269.0|                   3363479.0|\n",
      "|C07AA092853| 9,89432E+11|LYONNAISE|11A000060C8|27/02/2020|           15|           0.0|                   3367554.0|\n",
      "|C08EB001382| 9,85226E+11|LYONNAISE|   C24F74E5|02/04/2019|           20|         304.0|                    479962.0|\n",
      "|C08EB001382| 9,85226E+11|LYONNAISE|   C24F74E5|23/04/2019|           20|         447.0|                    487207.0|\n",
      "|C08EB001382| 9,85226E+11|LYONNAISE|   C24F74E5|14/08/2019|           20|          23.0|                    496375.0|\n",
      "|C08EB001382| 9,85226E+11|LYONNAISE|   C24F74E5|02/05/2020|           20|           0.0|                    526574.0|\n",
      "|C08EB001382| 9,85226E+11|LYONNAISE|   C24F74E5|14/05/2020|           20|           0.0|                    526574.0|\n",
      "|C08EB001382| 9,85226E+11|LYONNAISE|   C24F74E5|19/05/2020|           20|          42.0|                    526754.0|\n",
      "|C08EB001382| 9,85226E+11|LYONNAISE|   C24F74E5|24/07/2020|           20|           0.0|                    535680.0|\n",
      "|C08EB001382| 9,85226E+11|LYONNAISE|   C24F74E5|15/09/2020|           20|           0.0|                    536623.0|\n",
      "|C08EB001382| 9,85226E+11|LYONNAISE|   C24F74E5|10/12/2020|           20|           0.0|                    543614.0|\n",
      "|C08FA041975| 9,80564E+11|LYONNAISE|   C2412C78|04/01/2019|           15|          18.0|                    550269.0|\n",
      "|C08FA085851| 9,84967E+11|LYONNAISE|   C2ABDA49|08/01/2019|           15|         324.0|                   1038162.0|\n",
      "|C08FA085851| 9,84967E+11|LYONNAISE|   C2ABDA49|02/02/2020|           15|           0.0|                   1123848.0|\n",
      "|C08FA085851| 9,84967E+11|LYONNAISE|   C2ABDA49|28/03/2020|           15|         202.0|                   1132723.0|\n",
      "|C09FA030008| 9,82018E+11|LYONNAISE|   C241E7A5|20/07/2019|           15|         502.0|                   1812722.0|\n",
      "|C09FA030008| 9,82018E+11|LYONNAISE|   C241E7A5|25/11/2019|           15|         244.0|                   1875827.0|\n",
      "|C09FA030008| 9,82018E+11|LYONNAISE|   C241E7A5|21/10/2020|           15|         660.0|                   2086624.0|\n",
      "+-----------+------------+---------+-----------+----------+-------------+--------------+----------------------------+\n",
      "only showing top 20 rows\n",
      "\n"
     ]
    }
   ],
   "source": [
    "data_spark.show()"
   ]
  },
  {
   "cell_type": "code",
   "execution_count": 8,
   "metadata": {},
   "outputs": [],
   "source": [
    "# Convertir la colonne 'date' de type string en DateType\n",
    "data_spark = data_spark.withColumn(\"date\", F.to_date(\"date\", \"dd/MM/yyyy\"))"
   ]
  },
  {
   "cell_type": "code",
   "execution_count": 9,
   "metadata": {},
   "outputs": [
    {
     "name": "stdout",
     "output_type": "stream",
     "text": [
      "root\n",
      " |-- sensor: string (nullable = true)\n",
      " |-- servicePoint: string (nullable = true)\n",
      " |-- client: string (nullable = true)\n",
      " |-- transmitter: string (nullable = true)\n",
      " |-- date: date (nullable = true)\n",
      " |-- meterDiameter: integer (nullable = true)\n",
      " |-- volume_l_value: double (nullable = true)\n",
      " |-- index_interpolated_d_l_value: double (nullable = true)\n",
      "\n"
     ]
    }
   ],
   "source": [
    "data_spark.printSchema()"
   ]
  },
  {
   "cell_type": "code",
   "execution_count": 10,
   "metadata": {},
   "outputs": [
    {
     "name": "stdout",
     "output_type": "stream",
     "text": [
      "Attention : Des doublons existent pour certaines triplettes.\n"
     ]
    }
   ],
   "source": [
    "# Vérification d'unicité de la triplette (sensor, servicePoint, transmitter) pour une date donnée\n",
    "window_spec = Window.partitionBy(\"sensor\", \"servicePoint\", \"transmitter\")\n",
    "counts = data_spark.withColumn(\"count\", F.lit(1)).groupBy(\"sensor\", \"servicePoint\", \"transmitter\").count()\n",
    "non_unique = counts.filter(F.col(\"count\") > 1)\n",
    "if non_unique.count() > 0:\n",
    "    print(\"Attention : Des doublons existent pour certaines triplettes.\")\n",
    "    data_spark = data_spark.dropDuplicates([\"sensor\", \"servicePoint\", \"transmitter\", \"date\"])"
   ]
  },
  {
   "cell_type": "code",
   "execution_count": 12,
   "metadata": {},
   "outputs": [
    {
     "name": "stdout",
     "output_type": "stream",
     "text": [
      "root\n",
      " |-- sensor: string (nullable = true)\n",
      " |-- servicePoint: string (nullable = true)\n",
      " |-- client: string (nullable = true)\n",
      " |-- transmitter: string (nullable = true)\n",
      " |-- date: date (nullable = true)\n",
      " |-- meterDiameter: integer (nullable = true)\n",
      " |-- volume_l_value: double (nullable = true)\n",
      " |-- index_interpolated_d_l_value: double (nullable = true)\n",
      "\n"
     ]
    }
   ],
   "source": [
    "data_spark.printSchema()"
   ]
  },
  {
   "cell_type": "code",
   "execution_count": 14,
   "metadata": {},
   "outputs": [
    {
     "data": {
      "text/plain": [
       "datetime.date(2021, 8, 25)"
      ]
     },
     "execution_count": 14,
     "metadata": {},
     "output_type": "execute_result"
    }
   ],
   "source": [
    "max_date = data_spark.select(F.max(\"date\").alias(\"max_date\")).collect()[0][\"max_date\"]\n",
    "max_date"
   ]
  },
  {
   "cell_type": "code",
   "execution_count": 15,
   "metadata": {},
   "outputs": [],
   "source": [
    "data_spark = data_spark.withColumn(\n",
    "    \"is_significant\", \n",
    "    F.when(F.col(\"volume_l_value\") > 20, F.lit(1)).otherwise(F.lit(0))\n",
    ")"
   ]
  },
  {
   "cell_type": "code",
   "execution_count": 18,
   "metadata": {},
   "outputs": [],
   "source": [
    "# Définir une fenêtre pour partitionner par triplette et ordonner par date\n",
    "window_spec = Window.partitionBy(\"sensor\", \"servicePoint\", \"transmitter\").orderBy(F.desc(\"date\"))"
   ]
  },
  {
   "cell_type": "code",
   "execution_count": 19,
   "metadata": {},
   "outputs": [],
   "source": [
    "# Trouver la dernière date avec une consommation significative\n",
    "data_spark = data_spark.withColumn(\n",
    "    \"last_significant_date\",\n",
    "    F.when(F.col(\"is_significant\") == 1, F.col(\"date\"))\n",
    ").withColumn(\n",
    "    \"last_significant_date\",\n",
    "    F.last(\"last_significant_date\", ignorenulls=True).over(window_spec)\n",
    ")"
   ]
  },
  {
   "cell_type": "code",
   "execution_count": 21,
   "metadata": {},
   "outputs": [
    {
     "name": "stdout",
     "output_type": "stream",
     "text": [
      "+-----------+------------+---------+-----------+----------+-------------+-----------------+----------------------------+--------------+---------------------+\n",
      "|     sensor|servicePoint|   client|transmitter|      date|meterDiameter|   volume_l_value|index_interpolated_d_l_value|is_significant|last_significant_date|\n",
      "+-----------+------------+---------+-----------+----------+-------------+-----------------+----------------------------+--------------+---------------------+\n",
      "|C04AE134021| 9,84588E+11|LYONNAISE|   C01E00D9|2021-08-08|           40|              0.0|                   7070442.0|             0|                 NULL|\n",
      "|C04AE134021| 9,84588E+11|LYONNAISE|   C01E00D9|2021-08-07|           40|              0.0|                   7070442.0|             0|                 NULL|\n",
      "|C04AE134021| 9,84588E+11|LYONNAISE|   C01E00D9|2021-08-06|           40|              0.0|                   7070442.0|             0|                 NULL|\n",
      "|C04AE134021| 9,84588E+11|LYONNAISE|   C01E00D9|2021-08-05|           40|              0.0|                   7070442.0|             0|                 NULL|\n",
      "|C04AE134021| 9,84588E+11|LYONNAISE|   C01E00D9|2021-08-04|           40|              0.0|                   7070442.0|             0|                 NULL|\n",
      "|C04AE134021| 9,84588E+11|LYONNAISE|   C01E00D9|2021-08-03|           40|              0.0|                   7070442.0|             0|                 NULL|\n",
      "|C04AE134021| 9,84588E+11|LYONNAISE|   C01E00D9|2021-08-02|           40|              0.0|                   7070442.0|             0|                 NULL|\n",
      "|C04AE134021| 9,84588E+11|LYONNAISE|   C01E00D9|2021-08-01|           40|              0.0|                   7070442.0|             0|                 NULL|\n",
      "|C04AE134021| 9,84588E+11|LYONNAISE|   C01E00D9|2021-07-31|           40|              0.0|                   7070442.0|             0|                 NULL|\n",
      "|C04AE134021| 9,84588E+11|LYONNAISE|   C01E00D9|2021-07-30|           40|              0.0|                   7070442.0|             0|                 NULL|\n",
      "|C04AE134021| 9,84588E+11|LYONNAISE|   C01E00D9|2021-07-29|           40|              0.0|                   7070442.0|             0|                 NULL|\n",
      "|C04AE134021| 9,84588E+11|LYONNAISE|   C01E00D9|2021-07-28|           40|              0.0|                   7070442.0|             0|                 NULL|\n",
      "|C04AE134021| 9,84588E+11|LYONNAISE|   C01E00D9|2021-07-27|           40|              0.0|                   7070442.0|             0|                 NULL|\n",
      "|C04AE134021| 9,84588E+11|LYONNAISE|   C01E00D9|2021-07-26|           40|              0.0|                   7070442.0|             0|                 NULL|\n",
      "|C04AE134021| 9,84588E+11|LYONNAISE|   C01E00D9|2021-07-25|           40|              0.0|                   7070442.0|             0|                 NULL|\n",
      "|C04AE134021| 9,84588E+11|LYONNAISE|   C01E00D9|2021-07-24|           40|              0.0|                   7070442.0|             0|                 NULL|\n",
      "|C04AE134021| 9,84588E+11|LYONNAISE|   C01E00D9|2021-07-23|           40|              0.0|                   7070442.0|             0|                 NULL|\n",
      "|C04AE134021| 9,84588E+11|LYONNAISE|   C01E00D9|2021-07-22|           40|              0.0|                   7070442.0|             0|                 NULL|\n",
      "|C04AE134021| 9,84588E+11|LYONNAISE|   C01E00D9|2021-07-21|           40|              0.0|                   7070442.0|             0|                 NULL|\n",
      "|C04AE134021| 9,84588E+11|LYONNAISE|   C01E00D9|2021-07-20|           40|              0.0|                   7070442.0|             0|                 NULL|\n",
      "|C04AE134021| 9,84588E+11|LYONNAISE|   C01E00D9|2021-07-19|           40|              0.0|                   7070442.0|             0|                 NULL|\n",
      "|C04AE134021| 9,84588E+11|LYONNAISE|   C01E00D9|2021-07-18|           40|              0.0|                   7070442.0|             0|                 NULL|\n",
      "|C04AE134021| 9,84588E+11|LYONNAISE|   C01E00D9|2021-07-17|           40|              0.0|                   7070442.0|             0|                 NULL|\n",
      "|C04AE134021| 9,84588E+11|LYONNAISE|   C01E00D9|2021-07-16|           40|              0.0|                   7070442.0|             0|                 NULL|\n",
      "|C04AE134021| 9,84588E+11|LYONNAISE|   C01E00D9|2021-07-15|           40|              0.0|                   7070442.0|             0|                 NULL|\n",
      "|C04AE134021| 9,84588E+11|LYONNAISE|   C01E00D9|2021-07-14|           40|83.16666666697711|                   7070442.0|             1|           2021-07-14|\n",
      "|C04AE134021| 9,84588E+11|LYONNAISE|   C01E00D9|2021-07-13|           40|              0.0|           7070358.833333333|             0|           2021-07-14|\n",
      "|C04AE134021| 9,84588E+11|LYONNAISE|   C01E00D9|2021-07-12|           40|              0.0|           7070275.666666667|             0|           2021-07-14|\n",
      "|C04AE134021| 9,84588E+11|LYONNAISE|   C01E00D9|2021-07-11|           40|              0.0|                   7070192.5|             0|           2021-07-14|\n",
      "|C04AE134021| 9,84588E+11|LYONNAISE|   C01E00D9|2021-07-10|           40|              0.0|           7070109.333333333|             0|           2021-07-14|\n",
      "|C04AE134021| 9,84588E+11|LYONNAISE|   C01E00D9|2021-07-09|           40|            499.0|           7070026.166666667|             1|           2021-07-09|\n",
      "|C04AE134021| 9,84588E+11|LYONNAISE|   C01E00D9|2021-07-08|           40|           1281.0|                   7069943.0|             1|           2021-07-08|\n",
      "|C04AE134021| 9,84588E+11|LYONNAISE|   C01E00D9|2021-07-07|           40|3370.333333333023|                   7068662.0|             1|           2021-07-07|\n",
      "|C04AE134021| 9,84588E+11|LYONNAISE|   C01E00D9|2021-07-06|           40|           3978.0|           7065291.666666667|             1|           2021-07-06|\n",
      "|C04AE134021| 9,84588E+11|LYONNAISE|   C01E00D9|2021-07-05|           40|           4256.0|           7061921.333333333|             1|           2021-07-05|\n",
      "|C04AE134021| 9,84588E+11|LYONNAISE|   C01E00D9|2021-07-04|           40|           2605.0|                   7058551.0|             1|           2021-07-04|\n",
      "|C04AE134021| 9,84588E+11|LYONNAISE|   C01E00D9|2021-07-03|           40|           2467.0|                   7055946.0|             1|           2021-07-03|\n",
      "|C04AE134021| 9,84588E+11|LYONNAISE|   C01E00D9|2021-07-02|           40|           4315.0|                   7053479.0|             1|           2021-07-02|\n",
      "|C04AE134021| 9,84588E+11|LYONNAISE|   C01E00D9|2021-07-01|           40|           3646.0|                   7049164.0|             1|           2021-07-01|\n",
      "|C04AE134021| 9,84588E+11|LYONNAISE|   C01E00D9|2021-06-30|           40|           2126.0|                   7045518.0|             1|           2021-06-30|\n",
      "|C04AE134021| 9,84588E+11|LYONNAISE|   C01E00D9|2021-06-29|           40|           3496.0|                   7043392.0|             1|           2021-06-29|\n",
      "|C04AE134021| 9,84588E+11|LYONNAISE|   C01E00D9|2021-06-28|           40|           3453.0|                   7039896.0|             1|           2021-06-28|\n",
      "|C04AE134021| 9,84588E+11|LYONNAISE|   C01E00D9|2021-06-27|           40|           1548.0|                   7036443.0|             1|           2021-06-27|\n",
      "|C04AE134021| 9,84588E+11|LYONNAISE|   C01E00D9|2021-06-26|           40|           2292.5|                   7034895.0|             1|           2021-06-26|\n",
      "|C04AE134021| 9,84588E+11|LYONNAISE|   C01E00D9|2021-06-25|           40|           3146.0|                   7032602.5|             1|           2021-06-25|\n",
      "|C04AE134021| 9,84588E+11|LYONNAISE|   C01E00D9|2021-06-24|           40|           2687.0|                   7030310.0|             1|           2021-06-24|\n",
      "|C04AE134021| 9,84588E+11|LYONNAISE|   C01E00D9|2021-06-23|           40|           1831.5|                   7027623.0|             1|           2021-06-23|\n",
      "|C04AE134021| 9,84588E+11|LYONNAISE|   C01E00D9|2021-06-22|           40|           2601.0|                   7025791.5|             1|           2021-06-22|\n",
      "|C04AE134021| 9,84588E+11|LYONNAISE|   C01E00D9|2021-06-21|           40|           2762.0|                   7023960.0|             1|           2021-06-21|\n",
      "|C04AE134021| 9,84588E+11|LYONNAISE|   C01E00D9|2021-06-20|           40|            699.0|                   7021198.0|             1|           2021-06-20|\n",
      "|C04AE134021| 9,84588E+11|LYONNAISE|   C01E00D9|2021-06-19|           40|            598.0|                   7020499.0|             1|           2021-06-19|\n",
      "|C04AE134021| 9,84588E+11|LYONNAISE|   C01E00D9|2021-06-18|           40|           2160.0|                   7019901.0|             1|           2021-06-18|\n",
      "|C04AE134021| 9,84588E+11|LYONNAISE|   C01E00D9|2021-06-17|           40|           2065.0|                   7017741.0|             1|           2021-06-17|\n",
      "|C04AE134021| 9,84588E+11|LYONNAISE|   C01E00D9|2021-06-16|           40|            285.0|                   7015676.0|             1|           2021-06-16|\n",
      "|C04AE134021| 9,84588E+11|LYONNAISE|   C01E00D9|2021-06-15|           40|           2083.0|                   7015391.0|             1|           2021-06-15|\n",
      "|C04AE134021| 9,84588E+11|LYONNAISE|   C01E00D9|2021-06-14|           40|           1830.0|                   7013308.0|             1|           2021-06-14|\n",
      "|C04AE134021| 9,84588E+11|LYONNAISE|   C01E00D9|2021-06-13|           40|             58.0|                   7011478.0|             1|           2021-06-13|\n",
      "|C04AE134021| 9,84588E+11|LYONNAISE|   C01E00D9|2021-06-12|           40|             42.0|                   7011420.0|             1|           2021-06-12|\n",
      "|C04AE134021| 9,84588E+11|LYONNAISE|   C01E00D9|2021-06-11|           40|           1741.0|                   7011378.0|             1|           2021-06-11|\n",
      "|C04AE134021| 9,84588E+11|LYONNAISE|   C01E00D9|2021-06-10|           40|           1659.0|                   7009637.0|             1|           2021-06-10|\n",
      "|C04AE134021| 9,84588E+11|LYONNAISE|   C01E00D9|2021-06-09|           40|             15.0|                   7007978.0|             0|           2021-06-10|\n",
      "|C04AE134021| 9,84588E+11|LYONNAISE|   C01E00D9|2021-06-08|           40|           1755.0|                   7007963.0|             1|           2021-06-08|\n",
      "|C04AE134021| 9,84588E+11|LYONNAISE|   C01E00D9|2021-06-07|           40|           1577.0|                   7006208.0|             1|           2021-06-07|\n",
      "|C04AE134021| 9,84588E+11|LYONNAISE|   C01E00D9|2021-06-06|           40|1504.666666666977|                   7004631.0|             1|           2021-06-06|\n",
      "|C04AE134021| 9,84588E+11|LYONNAISE|   C01E00D9|2021-06-05|           40|             45.0|           7003126.333333333|             1|           2021-06-05|\n",
      "|C04AE134021| 9,84588E+11|LYONNAISE|   C01E00D9|2021-06-04|           40|           4435.0|           7001621.666666667|             1|           2021-06-04|\n",
      "|C04AE134021| 9,84588E+11|LYONNAISE|   C01E00D9|2021-06-03|           40|           7394.0|                   7000117.0|             1|           2021-06-03|\n",
      "|C04AE134021| 9,84588E+11|LYONNAISE|   C01E00D9|2021-06-02|           40|           5897.0|                   6992723.0|             1|           2021-06-02|\n",
      "|C04AE134021| 9,84588E+11|LYONNAISE|   C01E00D9|2021-06-01|           40|           7228.0|                   6986826.0|             1|           2021-06-01|\n",
      "|C04AE134021| 9,84588E+11|LYONNAISE|   C01E00D9|2021-05-31|           40|           7053.0|                   6979598.0|             1|           2021-05-31|\n",
      "|C04AE134021| 9,84588E+11|LYONNAISE|   C01E00D9|2021-05-30|           40|           4746.0|                   6972370.0|             1|           2021-05-30|\n",
      "|C04AE134021| 9,84588E+11|LYONNAISE|   C01E00D9|2021-05-29|           40|           4601.0|                   6967624.0|             1|           2021-05-29|\n",
      "|C04AE134021| 9,84588E+11|LYONNAISE|   C01E00D9|2021-05-28|           40|           4989.0|                   6963023.0|             1|           2021-05-28|\n",
      "|C04AE134021| 9,84588E+11|LYONNAISE|   C01E00D9|2021-05-27|           40|           5261.0|                   6958422.0|             1|           2021-05-27|\n",
      "|C04AE134021| 9,84588E+11|LYONNAISE|   C01E00D9|2021-05-26|           40|           3326.0|                   6953161.0|             1|           2021-05-26|\n",
      "|C04AE134021| 9,84588E+11|LYONNAISE|   C01E00D9|2021-05-25|           40|           4099.0|                   6949835.0|             1|           2021-05-25|\n",
      "|C04AE134021| 9,84588E+11|LYONNAISE|   C01E00D9|2021-05-24|           40|           3033.0|                   6945736.0|             1|           2021-05-24|\n",
      "|C04AE134021| 9,84588E+11|LYONNAISE|   C01E00D9|2021-05-23|           40|           2795.0|                   6941637.0|             1|           2021-05-23|\n",
      "|C04AE134021| 9,84588E+11|LYONNAISE|   C01E00D9|2021-05-22|           40|         3035.625|                   6938842.0|             1|           2021-05-22|\n",
      "|C04AE134021| 9,84588E+11|LYONNAISE|   C01E00D9|2021-05-21|           40|           4171.0|                 6935806.375|             1|           2021-05-21|\n",
      "|C04AE134021| 9,84588E+11|LYONNAISE|   C01E00D9|2021-05-20|           40|           3805.0|                  6932770.75|             1|           2021-05-20|\n",
      "|C04AE134021| 9,84588E+11|LYONNAISE|   C01E00D9|2021-05-19|           40|           2197.0|                 6929735.125|             1|           2021-05-19|\n",
      "|C04AE134021| 9,84588E+11|LYONNAISE|   C01E00D9|2021-05-18|           40|           4020.0|                   6926699.5|             1|           2021-05-18|\n",
      "|C04AE134021| 9,84588E+11|LYONNAISE|   C01E00D9|2021-05-17|           40|           3803.0|                 6923663.875|             1|           2021-05-17|\n",
      "|C04AE134021| 9,84588E+11|LYONNAISE|   C01E00D9|2021-05-16|           40|           1889.0|                  6920628.25|             1|           2021-05-16|\n",
      "|C04AE134021| 9,84588E+11|LYONNAISE|   C01E00D9|2021-05-15|           40|           1801.0|                 6917592.625|             1|           2021-05-15|\n",
      "|C04AE134021| 9,84588E+11|LYONNAISE|   C01E00D9|2021-05-14|           40|           1737.0|                   6914557.0|             1|           2021-05-14|\n",
      "|C04AE134021| 9,84588E+11|LYONNAISE|   C01E00D9|2021-05-13|           40|           1679.0|                   6912820.0|             1|           2021-05-13|\n",
      "|C04AE134021| 9,84588E+11|LYONNAISE|   C01E00D9|2021-05-12|           40|           1639.0|                   6911141.0|             1|           2021-05-12|\n",
      "|C04AE134021| 9,84588E+11|LYONNAISE|   C01E00D9|2021-05-11|           40|2643.166666666977|                   6909502.0|             1|           2021-05-11|\n",
      "|C04AE134021| 9,84588E+11|LYONNAISE|   C01E00D9|2021-05-10|           40|           3017.0|           6906858.833333333|             1|           2021-05-10|\n",
      "|C04AE134021| 9,84588E+11|LYONNAISE|   C01E00D9|2021-05-09|           40|           1399.0|           6904215.666666667|             1|           2021-05-09|\n",
      "|C04AE134021| 9,84588E+11|LYONNAISE|   C01E00D9|2021-05-08|           40|           1375.0|                   6901572.5|             1|           2021-05-08|\n",
      "|C04AE134021| 9,84588E+11|LYONNAISE|   C01E00D9|2021-05-07|           40|           3123.0|           6898929.333333333|             1|           2021-05-07|\n",
      "|C04AE134021| 9,84588E+11|LYONNAISE|   C01E00D9|2021-05-06|           40|           3375.0|           6896286.166666667|             1|           2021-05-06|\n",
      "|C04AE134021| 9,84588E+11|LYONNAISE|   C01E00D9|2021-05-05|           40|           3297.0|                   6893643.0|             1|           2021-05-05|\n",
      "|C04AE134021| 9,84588E+11|LYONNAISE|   C01E00D9|2021-05-04|           40|7139.142857142724|                   6890346.0|             1|           2021-05-04|\n",
      "|C04AE134021| 9,84588E+11|LYONNAISE|   C01E00D9|2021-05-03|           40|           7634.0|           6883206.857142857|             1|           2021-05-03|\n",
      "|C04AE134021| 9,84588E+11|LYONNAISE|   C01E00D9|2021-05-02|           40|           6280.0|           6876067.714285715|             1|           2021-05-02|\n",
      "|C04AE134021| 9,84588E+11|LYONNAISE|   C01E00D9|2021-05-01|           40|           6263.0|           6868928.571428572|             1|           2021-05-01|\n",
      "+-----------+------------+---------+-----------+----------+-------------+-----------------+----------------------------+--------------+---------------------+\n",
      "only showing top 100 rows\n",
      "\n"
     ]
    }
   ],
   "source": [
    "data_spark.show(100)"
   ]
  },
  {
   "cell_type": "code",
   "execution_count": 22,
   "metadata": {},
   "outputs": [],
   "source": [
    "# Calculer v1 comme la différence entre la date maximale (T) et la dernière date significative\n",
    "data_spark = data_spark.withColumn(\n",
    "    \"v1\",\n",
    "    F.datediff(F.lit(max_date), F.col(\"last_significant_date\"))\n",
    ")\n"
   ]
  },
  {
   "cell_type": "code",
   "execution_count": 30,
   "metadata": {},
   "outputs": [
    {
     "name": "stdout",
     "output_type": "stream",
     "text": [
      "+-----------+------------+-----------+----------+----+\n",
      "|     sensor|servicePoint|transmitter|      date|  v1|\n",
      "+-----------+------------+-----------+----------+----+\n",
      "|C04AE134021| 9,84588E+11|   C01E00D9|2021-08-08|NULL|\n",
      "|C04AE134021| 9,84588E+11|   C01E00D9|2021-08-07|NULL|\n",
      "|C04AE134021| 9,84588E+11|   C01E00D9|2021-08-06|NULL|\n",
      "|C04AE134021| 9,84588E+11|   C01E00D9|2021-08-05|NULL|\n",
      "|C04AE134021| 9,84588E+11|   C01E00D9|2021-08-04|NULL|\n",
      "|C04AE134021| 9,84588E+11|   C01E00D9|2021-08-03|NULL|\n",
      "|C04AE134021| 9,84588E+11|   C01E00D9|2021-08-02|NULL|\n",
      "|C04AE134021| 9,84588E+11|   C01E00D9|2021-08-01|NULL|\n",
      "|C04AE134021| 9,84588E+11|   C01E00D9|2021-07-31|NULL|\n",
      "|C04AE134021| 9,84588E+11|   C01E00D9|2021-07-30|NULL|\n",
      "|C04AE134021| 9,84588E+11|   C01E00D9|2021-07-29|NULL|\n",
      "|C04AE134021| 9,84588E+11|   C01E00D9|2021-07-28|NULL|\n",
      "|C04AE134021| 9,84588E+11|   C01E00D9|2021-07-27|NULL|\n",
      "|C04AE134021| 9,84588E+11|   C01E00D9|2021-07-26|NULL|\n",
      "|C04AE134021| 9,84588E+11|   C01E00D9|2021-07-25|NULL|\n",
      "|C04AE134021| 9,84588E+11|   C01E00D9|2021-07-24|NULL|\n",
      "|C04AE134021| 9,84588E+11|   C01E00D9|2021-07-23|NULL|\n",
      "|C04AE134021| 9,84588E+11|   C01E00D9|2021-07-22|NULL|\n",
      "|C04AE134021| 9,84588E+11|   C01E00D9|2021-07-21|NULL|\n",
      "|C04AE134021| 9,84588E+11|   C01E00D9|2021-07-20|NULL|\n",
      "+-----------+------------+-----------+----------+----+\n",
      "only showing top 20 rows\n",
      "\n"
     ]
    }
   ],
   "source": [
    "# Résultat\n",
    "data_spark.select(\"sensor\", \"servicePoint\", \"transmitter\", \"date\", \"v1\").show()"
   ]
  },
  {
   "cell_type": "code",
   "execution_count": 25,
   "metadata": {},
   "outputs": [
    {
     "name": "stdout",
     "output_type": "stream",
     "text": [
      "+----+\n",
      "|v1  |\n",
      "+----+\n",
      "|NULL|\n",
      "|31  |\n",
      "|42  |\n",
      "|47  |\n",
      "|48  |\n",
      "|49  |\n",
      "|50  |\n",
      "|51  |\n",
      "|52  |\n",
      "|53  |\n",
      "|54  |\n",
      "|55  |\n",
      "|56  |\n",
      "|57  |\n",
      "|58  |\n",
      "|59  |\n",
      "|60  |\n",
      "|61  |\n",
      "|62  |\n",
      "|63  |\n",
      "+----+\n",
      "only showing top 20 rows\n",
      "\n"
     ]
    }
   ],
   "source": [
    "# Afficher les valeurs uniques de v1\n",
    "unique_v1 = data_spark.select(\"v1\").distinct().orderBy(\"v1\")\n",
    "unique_v1.show(truncate=False)"
   ]
  },
  {
   "cell_type": "code",
   "execution_count": 27,
   "metadata": {},
   "outputs": [
    {
     "name": "stdout",
     "output_type": "stream",
     "text": [
      "+---------------------+\n",
      "|last_significant_date|\n",
      "+---------------------+\n",
      "|NULL                 |\n",
      "|2019-01-01           |\n",
      "|2019-01-02           |\n",
      "|2019-01-03           |\n",
      "|2019-01-04           |\n",
      "|2019-01-05           |\n",
      "|2019-01-06           |\n",
      "|2019-01-07           |\n",
      "|2019-01-08           |\n",
      "|2019-01-09           |\n",
      "|2019-01-10           |\n",
      "|2019-01-11           |\n",
      "|2019-01-12           |\n",
      "|2019-01-13           |\n",
      "|2019-01-14           |\n",
      "|2019-01-15           |\n",
      "|2019-01-16           |\n",
      "|2019-01-17           |\n",
      "|2019-01-18           |\n",
      "|2019-01-19           |\n",
      "+---------------------+\n",
      "only showing top 20 rows\n",
      "\n"
     ]
    }
   ],
   "source": [
    "# Afficher la dernière date avec une consommation significative\n",
    "data_spark.select(\"last_significant_date\").distinct().orderBy(\"last_significant_date\").show(truncate=False)"
   ]
  },
  {
   "cell_type": "code",
   "execution_count": 34,
   "metadata": {},
   "outputs": [],
   "source": [
    "data_spark = data_spark.withColumn(\n",
    "    \"T0\", F.last(\"last_significant_date\", ignorenulls=True).over(window_spec)\n",
    ")\n"
   ]
  },
  {
   "cell_type": "code",
   "execution_count": 40,
   "metadata": {},
   "outputs": [],
   "source": [
    "# Filtrer les 90 jours avant T0\n",
    "data_spark = data_spark.withColumn(\n",
    "    \"within_90_days\",\n",
    "    F.when((F.col(\"date\") <= F.col(\"T0\")) & (F.col(\"date\") > F.date_sub(F.col(\"T0\"), 90)), 1).otherwise(0)\n",
    ")\n",
    "\n",
    "# Calculer le nombre de jours avec consommation non nulle dans les 90 jours avant T0\n",
    "data_spark = data_spark.withColumn(\n",
    "    \"non_null_days\",\n",
    "    F.when((F.col(\"within_90_days\") == 1) & (F.col(\"volume_l_value\") > 0), 1).otherwise(0)\n",
    ")\n",
    "data_spark = data_spark.withColumn(\n",
    "    \"total_non_null_days\", F.sum(\"non_null_days\").over(window_spec)\n",
    ")"
   ]
  },
  {
   "cell_type": "code",
   "execution_count": 41,
   "metadata": {},
   "outputs": [],
   "source": [
    "# Calculer v2\n",
    "data_spark = data_spark.withColumn(\n",
    "    \"v2\", F.col(\"total_non_null_days\") / 90\n",
    ")"
   ]
  },
  {
   "cell_type": "code",
   "execution_count": 45,
   "metadata": {},
   "outputs": [
    {
     "name": "stdout",
     "output_type": "stream",
     "text": [
      "+-------------------+\n",
      "|                 v2|\n",
      "+-------------------+\n",
      "| 7.2444444444444445|\n",
      "|  7.533333333333333|\n",
      "|  7.711111111111111|\n",
      "|  7.866666666666666|\n",
      "|  9.688888888888888|\n",
      "|0.18888888888888888|\n",
      "| 1.2666666666666666|\n",
      "| 1.7444444444444445|\n",
      "| 2.5444444444444443|\n",
      "|  4.877777777777778|\n",
      "| 1.5222222222222221|\n",
      "|                2.4|\n",
      "|  9.811111111111112|\n",
      "| 1.9666666666666666|\n",
      "| 2.1555555555555554|\n",
      "|  4.055555555555555|\n",
      "|  5.044444444444444|\n",
      "|                8.0|\n",
      "| 1.5888888888888888|\n",
      "|                0.0|\n",
      "+-------------------+\n",
      "only showing top 20 rows\n",
      "\n"
     ]
    }
   ],
   "source": [
    "# Résultat\n",
    "data_spark.select(\"v2\").distinct().show()"
   ]
  },
  {
   "cell_type": "code",
   "execution_count": 51,
   "metadata": {},
   "outputs": [],
   "source": [
    "# Définir la période de 6 mois (183 jours) avant T0 - 90 jours\n",
    "data_spark = data_spark.withColumn(\n",
    "    \"within_183_days\",\n",
    "    F.when(\n",
    "        (F.col(\"date\") <= F.date_sub(F.col(\"T0\"), 90)) & \n",
    "        (F.col(\"date\") > F.date_sub(F.col(\"T0\"), 273)), \n",
    "        1\n",
    "    ).otherwise(0)\n",
    ")\n",
    "\n",
    "# Calculer le nombre de jours avec consommation non nulle dans la période de 6 mois\n",
    "data_spark = data_spark.withColumn(\n",
    "    \"non_null_days_v3\",\n",
    "    F.when((F.col(\"within_183_days\") == 1) & (F.col(\"volume_l_value\") > 0), 1).otherwise(0)\n",
    ")\n",
    "\n",
    "data_spark = data_spark.withColumn(\n",
    "    \"total_non_null_days_v3\", \n",
    "    F.sum(\"non_null_days_v3\").over(Window.partitionBy(\"sensor\", \"servicePoint\", \"transmitter\"))\n",
    ")\n",
    "\n",
    "# Calculer v3\n",
    "data_spark = data_spark.withColumn(\n",
    "    \"v3\", F.col(\"total_non_null_days_v3\") / 183\n",
    ")\n",
    "\n"
   ]
  },
  {
   "cell_type": "code",
   "execution_count": 54,
   "metadata": {},
   "outputs": [
    {
     "name": "stdout",
     "output_type": "stream",
     "text": [
      "+-----------+------------+-----------+----+---+\n",
      "|sensor     |servicePoint|transmitter|T0  |v3 |\n",
      "+-----------+------------+-----------+----+---+\n",
      "|C04AE134021|9,84588E+11 |C01E00D9   |NULL|0.0|\n",
      "|C04AE134021|9,84588E+11 |C01E00D9   |NULL|0.0|\n",
      "|C04AE134021|9,84588E+11 |C01E00D9   |NULL|0.0|\n",
      "|C04AE134021|9,84588E+11 |C01E00D9   |NULL|0.0|\n",
      "|C04AE134021|9,84588E+11 |C01E00D9   |NULL|0.0|\n",
      "|C04AE134021|9,84588E+11 |C01E00D9   |NULL|0.0|\n",
      "|C04AE134021|9,84588E+11 |C01E00D9   |NULL|0.0|\n",
      "|C04AE134021|9,84588E+11 |C01E00D9   |NULL|0.0|\n",
      "|C04AE134021|9,84588E+11 |C01E00D9   |NULL|0.0|\n",
      "|C04AE134021|9,84588E+11 |C01E00D9   |NULL|0.0|\n",
      "|C04AE134021|9,84588E+11 |C01E00D9   |NULL|0.0|\n",
      "|C04AE134021|9,84588E+11 |C01E00D9   |NULL|0.0|\n",
      "|C04AE134021|9,84588E+11 |C01E00D9   |NULL|0.0|\n",
      "|C04AE134021|9,84588E+11 |C01E00D9   |NULL|0.0|\n",
      "|C04AE134021|9,84588E+11 |C01E00D9   |NULL|0.0|\n",
      "|C04AE134021|9,84588E+11 |C01E00D9   |NULL|0.0|\n",
      "|C04AE134021|9,84588E+11 |C01E00D9   |NULL|0.0|\n",
      "|C04AE134021|9,84588E+11 |C01E00D9   |NULL|0.0|\n",
      "|C04AE134021|9,84588E+11 |C01E00D9   |NULL|0.0|\n",
      "|C04AE134021|9,84588E+11 |C01E00D9   |NULL|0.0|\n",
      "+-----------+------------+-----------+----+---+\n",
      "only showing top 20 rows\n",
      "\n"
     ]
    }
   ],
   "source": [
    "# Résultat\n",
    "data_spark.select(\"sensor\", \"servicePoint\", \"transmitter\", \"T0\", \"v3\").show(truncate=False)"
   ]
  },
  {
   "cell_type": "code",
   "execution_count": 56,
   "metadata": {},
   "outputs": [],
   "source": [
    "# Filtrer les données sur une période d'un an avant T0\n",
    "data_spark = data_spark.withColumn(\n",
    "    \"within_1_year\",\n",
    "    F.when((F.col(\"date\") <= F.col(\"T0\")) & (F.col(\"date\") > F.date_sub(F.col(\"T0\"), 365)), 1).otherwise(0)\n",
    ")\n",
    "\n",
    "# Marquer les jours avec consommation nulle\n",
    "data_spark = data_spark.withColumn(\n",
    "    \"is_null\", F.when((F.col(\"within_1_year\") == 1) & (F.col(\"volume_l_value\") == 0), 1).otherwise(0)\n",
    ")\n",
    "\n",
    "# Identifier les débuts et fins de périodes de consommation nulle\n",
    "window_spec = Window.partitionBy(\"sensor\", \"servicePoint\", \"transmitter\").orderBy(\"date\")\n",
    "data_spark = data_spark.withColumn(\n",
    "    \"prev_is_null\", F.lag(\"is_null\").over(window_spec)\n",
    ")\n",
    "data_spark = data_spark.withColumn(\n",
    "    \"new_null_period\",\n",
    "    F.when((F.col(\"is_null\") == 1) & ((F.col(\"prev_is_null\").isNull()) | (F.col(\"prev_is_null\") == 0)), 1).otherwise(0)\n",
    ")\n",
    "\n",
    "# Attribuer un identifiant unique à chaque période nulle\n",
    "data_spark = data_spark.withColumn(\n",
    "    \"null_period_id\",\n",
    "    F.sum(\"new_null_period\").over(window_spec)\n",
    ")\n",
    "\n",
    "# Calculer la longueur de chaque période nulle\n",
    "null_period_lengths = data_spark.filter(F.col(\"is_null\") == 1).groupBy(\n",
    "    \"sensor\", \"servicePoint\", \"transmitter\", \"null_period_id\"\n",
    ").agg(F.count(\"date\").alias(\"period_length\"))\n",
    "\n",
    "# Calculer la durée moyenne des périodes nulles\n",
    "avg_null_period_length = null_period_lengths.groupBy(\n",
    "    \"sensor\", \"servicePoint\", \"transmitter\"\n",
    ").agg(F.avg(\"period_length\").alias(\"v4\"))\n",
    "\n",
    "# Joindre la colonne v4 au dataset principal\n",
    "data_spark = data_spark.join(avg_null_period_length, [\"sensor\", \"servicePoint\", \"transmitter\"], \"left\")\n"
   ]
  },
  {
   "cell_type": "code",
   "execution_count": 57,
   "metadata": {},
   "outputs": [
    {
     "name": "stdout",
     "output_type": "stream",
     "text": [
      "+-----------+------------+-----------+------------------+\n",
      "|sensor     |servicePoint|transmitter|v4                |\n",
      "+-----------+------------+-----------+------------------+\n",
      "|C04AE134021|9,84588E+11 |C01E00D9   |1.864864864864865 |\n",
      "|C04AE134021|9,84588E+11 |C01E00D9   |1.864864864864865 |\n",
      "|C04AE134021|9,84588E+11 |C01E00D9   |1.864864864864865 |\n",
      "|C04AE134021|9,84588E+11 |C01E00D9   |1.864864864864865 |\n",
      "|C04AE134021|9,84588E+11 |C01E00D9   |1.864864864864865 |\n",
      "|C07AA092853|9,89432E+11 |11A000060C8|8.0               |\n",
      "|C07AA092853|9,89432E+11 |11A000060C8|8.0               |\n",
      "|C07AA092853|9,89432E+11 |11A000060C8|8.0               |\n",
      "|C07AA092853|9,89432E+11 |11A000060C8|8.0               |\n",
      "|C07AA092853|9,89432E+11 |11A000060C8|8.0               |\n",
      "|C08EB001382|9,85226E+11 |C24F74E5   |9.090909090909092 |\n",
      "|C08EB001382|9,85226E+11 |C24F74E5   |9.090909090909092 |\n",
      "|C08EB001382|9,85226E+11 |C24F74E5   |9.090909090909092 |\n",
      "|C08EB001382|9,85226E+11 |C24F74E5   |9.090909090909092 |\n",
      "|C08FA041975|9,80564E+11 |C2412C78   |5.72093023255814  |\n",
      "|C08FA041975|9,80564E+11 |C2412C78   |5.72093023255814  |\n",
      "|C08FA041975|9,80564E+11 |C2412C78   |5.72093023255814  |\n",
      "|C08FA041975|9,80564E+11 |C2412C78   |5.72093023255814  |\n",
      "|C08FA041975|9,80564E+11 |C2412C78   |5.72093023255814  |\n",
      "|C08FA085851|9,84967E+11 |C2ABDA49   |3.3225806451612905|\n",
      "+-----------+------------+-----------+------------------+\n",
      "only showing top 20 rows\n",
      "\n"
     ]
    }
   ],
   "source": [
    "# Résultat\n",
    "data_spark.select(\"sensor\", \"servicePoint\", \"transmitter\", \"v4\").show(truncate=False)\n"
   ]
  },
  {
   "cell_type": "code",
   "execution_count": 72,
   "metadata": {},
   "outputs": [],
   "source": [
    "# Identifier les jours de consommation nulle\n",
    "data_spark = data_spark.withColumn(\n",
    "    \"is_null\", F.when((F.col(\"within_1_year\") == 1) & (F.col(\"volume_l_value\") == 0), 1).otherwise(0)\n",
    ")\n",
    "\n",
    "# Identifier les débuts de périodes nulles\n",
    "data_spark = data_spark.withColumn(\n",
    "    \"prev_is_null\", F.lag(\"is_null\").over(Window.partitionBy(\"sensor\", \"servicePoint\", \"transmitter\").orderBy(\"date\"))\n",
    ")\n",
    "data_spark = data_spark.withColumn(\n",
    "    \"new_null_period\",\n",
    "    F.when((F.col(\"is_null\") == 1) & ((F.col(\"prev_is_null\").isNull()) | (F.col(\"prev_is_null\") == 0)), 1).otherwise(0)\n",
    ")\n",
    "\n",
    "# Identifier chaque période de consommation nulle avec un ID unique\n",
    "data_spark = data_spark.withColumn(\n",
    "    \"null_period_id\",\n",
    "    F.sum(\"new_null_period\").over(Window.partitionBy(\"sensor\", \"servicePoint\", \"transmitter\").orderBy(\"date\"))\n",
    ")\n",
    "\n",
    "# Calculer la longueur de chaque période nulle\n",
    "null_period_lengths = data_spark.filter(F.col(\"is_null\") == 1).groupBy(\n",
    "    \"sensor\", \"servicePoint\", \"transmitter\", \"null_period_id\"\n",
    ").agg(F.count(\"date\").alias(\"period_length\"))\n",
    "\n",
    "# Trouver la durée maximale des périodes nulles (v5)\n",
    "max_null_period_length = null_period_lengths.groupBy(\n",
    "    \"sensor\", \"servicePoint\", \"transmitter\"\n",
    ").agg(F.max(\"period_length\").alias(\"v5\"))\n",
    "\n",
    "# Joindre la colonne v5 au dataset principal\n",
    "data_spark = data_spark.join(max_null_period_length, [\"sensor\", \"servicePoint\", \"transmitter\"], \"left\")\n"
   ]
  },
  {
   "cell_type": "code",
   "execution_count": 73,
   "metadata": {},
   "outputs": [
    {
     "name": "stdout",
     "output_type": "stream",
     "text": [
      "+-----------+------------+-----------+---+\n",
      "|sensor     |servicePoint|transmitter|v5 |\n",
      "+-----------+------------+-----------+---+\n",
      "|C04AE134021|9,84588E+11 |C01E00D9   |6  |\n",
      "|C04AE134021|9,84588E+11 |C01E00D9   |6  |\n",
      "|C04AE134021|9,84588E+11 |C01E00D9   |6  |\n",
      "|C04AE134021|9,84588E+11 |C01E00D9   |6  |\n",
      "|C04AE134021|9,84588E+11 |C01E00D9   |6  |\n",
      "|C07AA092853|9,89432E+11 |11A000060C8|48 |\n",
      "|C07AA092853|9,89432E+11 |11A000060C8|48 |\n",
      "|C07AA092853|9,89432E+11 |11A000060C8|48 |\n",
      "|C07AA092853|9,89432E+11 |11A000060C8|48 |\n",
      "|C07AA092853|9,89432E+11 |11A000060C8|48 |\n",
      "|C08EB001382|9,85226E+11 |C24F74E5   |50 |\n",
      "|C08EB001382|9,85226E+11 |C24F74E5   |50 |\n",
      "|C08EB001382|9,85226E+11 |C24F74E5   |50 |\n",
      "|C08EB001382|9,85226E+11 |C24F74E5   |50 |\n",
      "|C08FA041975|9,80564E+11 |C2412C78   |113|\n",
      "|C08FA041975|9,80564E+11 |C2412C78   |113|\n",
      "|C08FA041975|9,80564E+11 |C2412C78   |113|\n",
      "|C08FA041975|9,80564E+11 |C2412C78   |113|\n",
      "|C08FA041975|9,80564E+11 |C2412C78   |113|\n",
      "|C08FA085851|9,84967E+11 |C2ABDA49   |12 |\n",
      "+-----------+------------+-----------+---+\n",
      "only showing top 20 rows\n",
      "\n"
     ]
    }
   ],
   "source": [
    "# Résultat\n",
    "data_spark.select(\"sensor\", \"servicePoint\", \"transmitter\", \"v5\").show(truncate=False)"
   ]
  },
  {
   "cell_type": "code",
   "execution_count": 75,
   "metadata": {},
   "outputs": [],
   "source": [
    "# Identifier les jours de consommation non nulle\n",
    "data_spark = data_spark.withColumn(\n",
    "    \"is_non_null\", F.when((F.col(\"within_1_year\") == 1) & (F.col(\"volume_l_value\") > 0), 1).otherwise(0)\n",
    ")\n",
    "\n",
    "# Identifier les débuts de périodes non nulles\n",
    "data_spark = data_spark.withColumn(\n",
    "    \"prev_is_non_null\", F.lag(\"is_non_null\").over(Window.partitionBy(\"sensor\", \"servicePoint\", \"transmitter\").orderBy(\"date\"))\n",
    ")\n",
    "data_spark = data_spark.withColumn(\n",
    "    \"new_non_null_period\",\n",
    "    F.when((F.col(\"is_non_null\") == 1) & ((F.col(\"prev_is_non_null\").isNull()) | (F.col(\"prev_is_non_null\") == 0)), 1).otherwise(0)\n",
    ")\n",
    "\n",
    "# Identifier chaque période de consommation non nulle avec un ID unique\n",
    "data_spark = data_spark.withColumn(\n",
    "    \"non_null_period_id\",\n",
    "    F.sum(\"new_non_null_period\").over(Window.partitionBy(\"sensor\", \"servicePoint\", \"transmitter\").orderBy(\"date\"))\n",
    ")\n",
    "\n",
    "# Calculer la longueur de chaque période non nulle\n",
    "non_null_period_lengths = data_spark.filter(F.col(\"is_non_null\") == 1).groupBy(\n",
    "    \"sensor\", \"servicePoint\", \"transmitter\", \"non_null_period_id\"\n",
    ").agg(F.count(\"date\").alias(\"non_null_period_length\"))\n",
    "\n",
    "# Trouver la durée maximale des périodes non nulles (v6)\n",
    "max_non_null_period_length = non_null_period_lengths.groupBy(\n",
    "    \"sensor\", \"servicePoint\", \"transmitter\"\n",
    ").agg(F.max(\"non_null_period_length\").alias(\"v6\"))\n",
    "\n",
    "# Joindre la colonne v6 au dataset principal\n",
    "data_spark = data_spark.join(max_non_null_period_length, [\"sensor\", \"servicePoint\", \"transmitter\"], \"left\")\n"
   ]
  },
  {
   "cell_type": "code",
   "execution_count": 76,
   "metadata": {},
   "outputs": [
    {
     "name": "stdout",
     "output_type": "stream",
     "text": [
      "+-----------+------------+-----------+---+\n",
      "|sensor     |servicePoint|transmitter|v6 |\n",
      "+-----------+------------+-----------+---+\n",
      "|C04AE134021|9,84588E+11 |C01E00D9   |250|\n",
      "|C04AE134021|9,84588E+11 |C01E00D9   |250|\n",
      "|C04AE134021|9,84588E+11 |C01E00D9   |250|\n",
      "|C04AE134021|9,84588E+11 |C01E00D9   |250|\n",
      "|C04AE134021|9,84588E+11 |C01E00D9   |250|\n",
      "|C07AA092853|9,89432E+11 |11A000060C8|270|\n",
      "|C07AA092853|9,89432E+11 |11A000060C8|270|\n",
      "|C07AA092853|9,89432E+11 |11A000060C8|270|\n",
      "|C07AA092853|9,89432E+11 |11A000060C8|270|\n",
      "|C07AA092853|9,89432E+11 |11A000060C8|270|\n",
      "|C08EB001382|9,85226E+11 |C24F74E5   |91 |\n",
      "|C08EB001382|9,85226E+11 |C24F74E5   |91 |\n",
      "|C08EB001382|9,85226E+11 |C24F74E5   |91 |\n",
      "|C08EB001382|9,85226E+11 |C24F74E5   |91 |\n",
      "|C08FA041975|9,80564E+11 |C2412C78   |323|\n",
      "|C08FA041975|9,80564E+11 |C2412C78   |323|\n",
      "|C08FA041975|9,80564E+11 |C2412C78   |323|\n",
      "|C08FA041975|9,80564E+11 |C2412C78   |323|\n",
      "|C08FA041975|9,80564E+11 |C2412C78   |323|\n",
      "|C08FA085851|9,84967E+11 |C2ABDA49   |301|\n",
      "+-----------+------------+-----------+---+\n",
      "only showing top 20 rows\n",
      "\n"
     ]
    }
   ],
   "source": [
    "# Résultat\n",
    "data_spark.select(\"sensor\", \"servicePoint\", \"transmitter\", \"v6\").show(truncate=False)"
   ]
  },
  {
   "cell_type": "code",
   "execution_count": 77,
   "metadata": {},
   "outputs": [
    {
     "name": "stdout",
     "output_type": "stream",
     "text": [
      "+-----------+------------+-----------+----------+---------+\n",
      "|sensor     |servicePoint|transmitter|T0        |v7       |\n",
      "+-----------+------------+-----------+----------+---------+\n",
      "|C04AE134021|9,84588E+11 |C01E00D9   |2019-01-02|7070442.0|\n",
      "|C04AE134021|9,84588E+11 |C01E00D9   |2019-01-02|7070442.0|\n",
      "|C04AE134021|9,84588E+11 |C01E00D9   |2019-01-06|7070442.0|\n",
      "|C04AE134021|9,84588E+11 |C01E00D9   |2019-01-06|7070442.0|\n",
      "|C04AE134021|9,84588E+11 |C01E00D9   |2019-01-06|7070442.0|\n",
      "|C04AE134021|9,84588E+11 |C01E00D9   |2019-01-06|7070442.0|\n",
      "|C04AE134021|9,84588E+11 |C01E00D9   |2019-01-07|7070442.0|\n",
      "|C04AE134021|9,84588E+11 |C01E00D9   |2019-01-08|7070442.0|\n",
      "|C04AE134021|9,84588E+11 |C01E00D9   |2019-01-09|7070442.0|\n",
      "|C04AE134021|9,84588E+11 |C01E00D9   |2019-01-10|7070442.0|\n",
      "|C04AE134021|9,84588E+11 |C01E00D9   |2019-01-13|7070442.0|\n",
      "|C04AE134021|9,84588E+11 |C01E00D9   |2019-01-13|7070442.0|\n",
      "|C04AE134021|9,84588E+11 |C01E00D9   |2019-01-13|7070442.0|\n",
      "|C04AE134021|9,84588E+11 |C01E00D9   |2019-01-14|7070442.0|\n",
      "|C04AE134021|9,84588E+11 |C01E00D9   |2019-01-15|7070442.0|\n",
      "|C04AE134021|9,84588E+11 |C01E00D9   |2019-01-16|7070442.0|\n",
      "|C04AE134021|9,84588E+11 |C01E00D9   |2019-01-17|7070442.0|\n",
      "|C04AE134021|9,84588E+11 |C01E00D9   |2019-01-20|7070442.0|\n",
      "|C04AE134021|9,84588E+11 |C01E00D9   |2019-01-20|7070442.0|\n",
      "|C04AE134021|9,84588E+11 |C01E00D9   |2019-01-20|7070442.0|\n",
      "+-----------+------------+-----------+----------+---------+\n",
      "only showing top 20 rows\n",
      "\n"
     ]
    }
   ],
   "source": [
    "# Identifier l'index mécanique à la dernière consommation significative (T0)\n",
    "window_spec = Window.partitionBy(\"sensor\", \"servicePoint\", \"transmitter\").orderBy(\"date\").rowsBetween(Window.unboundedPreceding, Window.unboundedFollowing)\n",
    "\n",
    "# Filtrer pour récupérer la valeur de l'index à T0\n",
    "data_spark = data_spark.withColumn(\n",
    "    \"v7\",\n",
    "    F.when(F.col(\"date\") == F.col(\"T0\"), F.col(\"index_interpolated_d_l_value\")).otherwise(None)\n",
    ")\n",
    "\n",
    "# Propager l'index mécanique (v7) pour chaque triplette\n",
    "data_spark = data_spark.withColumn(\n",
    "    \"v7\", F.last(\"v7\", ignorenulls=True).over(window_spec)\n",
    ")\n",
    "\n",
    "# Résultat\n",
    "data_spark.select(\"sensor\", \"servicePoint\", \"transmitter\", \"T0\", \"v7\").show(truncate=False)\n"
   ]
  },
  {
   "cell_type": "code",
   "execution_count": 80,
   "metadata": {},
   "outputs": [
    {
     "name": "stdout",
     "output_type": "stream",
     "text": [
      "+-----------+------------+-----------+---+\n",
      "|sensor     |servicePoint|transmitter|v8 |\n",
      "+-----------+------------+-----------+---+\n",
      "|C04AE134021|9,84588E+11 |C01E00D9   |37 |\n",
      "|C04AE134021|9,84588E+11 |C01E00D9   |37 |\n",
      "|C04AE134021|9,84588E+11 |C01E00D9   |37 |\n",
      "|C04AE134021|9,84588E+11 |C01E00D9   |37 |\n",
      "|C04AE134021|9,84588E+11 |C01E00D9   |37 |\n",
      "|C04AE134021|9,84588E+11 |C01E00D9   |37 |\n",
      "|C04AE134021|9,84588E+11 |C01E00D9   |37 |\n",
      "|C04AE134021|9,84588E+11 |C01E00D9   |37 |\n",
      "|C04AE134021|9,84588E+11 |C01E00D9   |37 |\n",
      "|C04AE134021|9,84588E+11 |C01E00D9   |37 |\n",
      "|C04AE134021|9,84588E+11 |C01E00D9   |37 |\n",
      "|C04AE134021|9,84588E+11 |C01E00D9   |37 |\n",
      "|C04AE134021|9,84588E+11 |C01E00D9   |37 |\n",
      "|C04AE134021|9,84588E+11 |C01E00D9   |37 |\n",
      "|C04AE134021|9,84588E+11 |C01E00D9   |37 |\n",
      "|C04AE134021|9,84588E+11 |C01E00D9   |37 |\n",
      "|C04AE134021|9,84588E+11 |C01E00D9   |37 |\n",
      "|C04AE134021|9,84588E+11 |C01E00D9   |37 |\n",
      "|C04AE134021|9,84588E+11 |C01E00D9   |37 |\n",
      "|C04AE134021|9,84588E+11 |C01E00D9   |37 |\n",
      "+-----------+------------+-----------+---+\n",
      "only showing top 20 rows\n",
      "\n"
     ]
    }
   ],
   "source": [
    "\n",
    "# Identifier les jours de consommation non nulle dans l'année précédant T0\n",
    "data_spark = data_spark.withColumn(\n",
    "    \"is_non_null\", F.when((F.col(\"within_1_year\") == 1) & (F.col(\"volume_l_value\") > 0), 1).otherwise(0)\n",
    ")\n",
    "\n",
    "# Identifier les débuts de périodes non nulles\n",
    "window_spec = Window.partitionBy(\"sensor\", \"servicePoint\", \"transmitter\").orderBy(\"date\")\n",
    "data_spark = data_spark.withColumn(\n",
    "    \"prev_is_non_null\", F.lag(\"is_non_null\").over(window_spec)\n",
    ")\n",
    "data_spark = data_spark.withColumn(\n",
    "    \"new_non_null_period\",\n",
    "    F.when((F.col(\"is_non_null\") == 1) & ((F.col(\"prev_is_non_null\").isNull()) | (F.col(\"prev_is_non_null\") == 0)), 1).otherwise(0)\n",
    ")\n",
    "\n",
    "# Calculer le nombre total de périodes non nulles (v8)\n",
    "data_spark = data_spark.withColumn(\n",
    "    \"v8\", F.sum(\"new_non_null_period\").over(Window.partitionBy(\"sensor\", \"servicePoint\", \"transmitter\"))\n",
    ")\n",
    "\n",
    "# Résultat\n",
    "data_spark.select(\"sensor\", \"servicePoint\", \"transmitter\", \"v8\").show(truncate=False)\n"
   ]
  },
  {
   "cell_type": "code",
   "execution_count": 83,
   "metadata": {},
   "outputs": [
    {
     "name": "stdout",
     "output_type": "stream",
     "text": [
      "+-----------+---------+----------------------------+---+\n",
      "|sensor     |millesime|index_interpolated_d_l_value|v9 |\n",
      "+-----------+---------+----------------------------+---+\n",
      "|C04AE134021|C04AE    |5652487.0                   |2  |\n",
      "|C04AE134021|C04AE    |6672885.0                   |2  |\n",
      "|C04AE134021|C04AE    |6749679.5                   |2  |\n",
      "|C04AE134021|C04AE    |6949835.0                   |2  |\n",
      "|C04AE134021|C04AE    |6967624.0                   |2  |\n",
      "|C07AA092853|C07AA    |3252572.0                   |1  |\n",
      "|C07AA092853|C07AA    |3312573.0                   |1  |\n",
      "|C07AA092853|C07AA    |3367554.0                   |1  |\n",
      "|C07AA092853|C07AA    |3526363.0                   |1  |\n",
      "|C07AA092853|C07AA    |3526385.5                   |1  |\n",
      "|C08EB001382|C08EB    |487564.0                    |2  |\n",
      "|C08EB001382|C08EB    |487564.0                    |2  |\n",
      "|C08EB001382|C08EB    |496577.0                    |2  |\n",
      "|C08EB001382|C08EB    |526975.0                    |2  |\n",
      "|C08FA041975|C08FA    |551811.0                    |2  |\n",
      "|C08FA041975|C08FA    |555129.0                    |2  |\n",
      "|C08FA041975|C08FA    |592349.0                    |2  |\n",
      "|C08FA041975|C08FA    |600466.0                    |2  |\n",
      "|C08FA041975|C08FA    |600479.0                    |2  |\n",
      "|C08FA085851|C08FA    |1106936.0                   |2  |\n",
      "+-----------+---------+----------------------------+---+\n",
      "only showing top 20 rows\n",
      "\n"
     ]
    }
   ],
   "source": [
    "\n",
    "# Extraire les 5 premiers caractères du champ sensor pour obtenir le millesime\n",
    "data_spark = data_spark.withColumn(\"millesime\", F.substring(F.col(\"sensor\"), 1, 5))\n",
    "\n",
    "# Appliquer les règles pour calculer v9\n",
    "data_spark = data_spark.withColumn(\n",
    "    \"v9\",\n",
    "    F.when(\n",
    "        (F.col(\"millesime\").isin(\"C10FA\", \"C10LA\", \"C10SA\", \"C11FA\", \"C11LA\", \"C11SA\")) & (F.col(\"index_interpolated_d_l_value\") > 3),\n",
    "        0\n",
    "    ).when(\n",
    "        F.col(\"millesime\").isin(\"D16BU\", \"Z12ER\", \"C07AA\"),\n",
    "        1\n",
    "    ).otherwise(2)\n",
    ")\n",
    "\n",
    "# Résultat\n",
    "data_spark.select(\"sensor\", \"millesime\", \"index_interpolated_d_l_value\", \"v9\").show(truncate=False)\n"
   ]
  },
  {
   "cell_type": "code",
   "execution_count": null,
   "metadata": {},
   "outputs": [],
   "source": []
  }
 ],
 "metadata": {
  "kernelspec": {
   "display_name": "vscode_pyspark",
   "language": "python",
   "name": "python3"
  },
  "language_info": {
   "codemirror_mode": {
    "name": "ipython",
    "version": 3
   },
   "file_extension": ".py",
   "mimetype": "text/x-python",
   "name": "python",
   "nbconvert_exporter": "python",
   "pygments_lexer": "ipython3",
   "version": "3.11.11"
  }
 },
 "nbformat": 4,
 "nbformat_minor": 2
}
